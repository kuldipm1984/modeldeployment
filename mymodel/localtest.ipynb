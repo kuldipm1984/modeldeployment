{
 "cells": [
  {
   "cell_type": "code",
   "execution_count": 1,
   "id": "32536d0b-ad9f-47ac-8cf3-9a02a4b67f6f",
   "metadata": {},
   "outputs": [],
   "source": [
    "# 1. Import libraries\n",
    "import pandas as pd\n",
    "import pickle\n",
    "import numpy as np\n",
    "import tensorflow as tf\n",
    "import os\n",
    "\n",
    "# 2. Import your scoring functions\n",
    "import sys\n",
    "sys.path.append('D:/azureml/New folder/mymodel/model')  # Add current directory to path\n",
    "from score import init, run\n"
   ]
  },
  {
   "cell_type": "code",
   "execution_count": 2,
   "id": "6bcceb20-d454-4699-8768-6728ff6b1aea",
   "metadata": {},
   "outputs": [
    {
     "name": "stdout",
     "output_type": "stream",
     "text": [
      "Model directory contents: [WindowsPath('D:/azureml/New folder/mymodel/model/classification_model.h5'), WindowsPath('D:/azureml/New folder/mymodel/model/le_location.pkl'), WindowsPath('D:/azureml/New folder/mymodel/model/le_season.pkl'), WindowsPath('D:/azureml/New folder/mymodel/model/le_wt.pkl'), WindowsPath('D:/azureml/New folder/mymodel/model/sc.pkl'), WindowsPath('D:/azureml/New folder/mymodel/model/score.py'), WindowsPath('D:/azureml/New folder/mymodel/model/weathertest.csv'), WindowsPath('D:/azureml/New folder/mymodel/model/__pycache__')]\n",
      "Attempting to load model from: D:\\azureml\\New folder\\mymodel\\model\\classification_model.h5\n",
      "WARNING:tensorflow:Error in loading the saved optimizer state. As a result, your model is starting with a freshly initialized optimizer.\n",
      "Successfully loaded model from: D:\\azureml\\New folder\\mymodel\\model\\classification_model.h5\n",
      "Loaded sc.pkl from D:\\azureml\\New folder\\mymodel\\model\\sc.pkl\n",
      "Loaded le_season.pkl from D:\\azureml\\New folder\\mymodel\\model\\le_season.pkl\n",
      "Loaded le_location.pkl from D:\\azureml\\New folder\\mymodel\\model\\le_location.pkl\n",
      "Loaded le_wt.pkl from D:\\azureml\\New folder\\mymodel\\model\\le_wt.pkl\n",
      "Initialization completed successfully\n"
     ]
    },
    {
     "name": "stderr",
     "output_type": "stream",
     "text": [
      "D:\\Anaconda\\Lib\\site-packages\\sklearn\\base.py:376: InconsistentVersionWarning: Trying to unpickle estimator StandardScaler from version 1.0.2 when using version 1.5.0. This might lead to breaking code or invalid results. Use at your own risk. For more info please refer to:\n",
      "https://scikit-learn.org/stable/model_persistence.html#security-maintainability-limitations\n",
      "  warnings.warn(\n",
      "D:\\Anaconda\\Lib\\site-packages\\sklearn\\base.py:376: InconsistentVersionWarning: Trying to unpickle estimator LabelEncoder from version 1.0.2 when using version 1.5.0. This might lead to breaking code or invalid results. Use at your own risk. For more info please refer to:\n",
      "https://scikit-learn.org/stable/model_persistence.html#security-maintainability-limitations\n",
      "  warnings.warn(\n"
     ]
    }
   ],
   "source": [
    "init()"
   ]
  },
  {
   "cell_type": "code",
   "execution_count": 3,
   "id": "0c8e8255-a3b0-4a77-9fd1-8f5adfcafe21",
   "metadata": {},
   "outputs": [],
   "source": [
    "mini_batch = [\"D:/azureml/New folder/mymodel/model/weathertest.csv\"]"
   ]
  },
  {
   "cell_type": "code",
   "execution_count": 4,
   "id": "ba1fad1e-bae6-4dac-a296-3830a1bf411b",
   "metadata": {},
   "outputs": [
    {
     "name": "stdout",
     "output_type": "stream",
     "text": [
      "1/1 [==============================] - 0s 340ms/step\n",
      "   Temperature  Humidity  Wind Speed  Precipitation (%)  Atmospheric Pressure  \\\n",
      "0           20        73         9.5                 87               1010.82   \n",
      "1           29        45         8.5                 71                990.00   \n",
      "\n",
      "   UV Index  Season  Visibility (km)  Location Prediction  \n",
      "0         2       3              3.5         1      Windy  \n",
      "1         7       1             10.0         1     Cloudy  \n"
     ]
    }
   ],
   "source": [
    "# Run prediction\n",
    "predictions = run(mini_batch)\n",
    "\n",
    "print(predictions)"
   ]
  },
  {
   "cell_type": "code",
   "execution_count": null,
   "id": "6fb5bc54-af43-4934-91f8-0b0d85b4207a",
   "metadata": {},
   "outputs": [],
   "source": []
  }
 ],
 "metadata": {
  "kernelspec": {
   "display_name": "Python 3 (ipykernel)",
   "language": "python",
   "name": "python3"
  },
  "language_info": {
   "codemirror_mode": {
    "name": "ipython",
    "version": 3
   },
   "file_extension": ".py",
   "mimetype": "text/x-python",
   "name": "python",
   "nbconvert_exporter": "python",
   "pygments_lexer": "ipython3",
   "version": "3.11.7"
  }
 },
 "nbformat": 4,
 "nbformat_minor": 5
}
